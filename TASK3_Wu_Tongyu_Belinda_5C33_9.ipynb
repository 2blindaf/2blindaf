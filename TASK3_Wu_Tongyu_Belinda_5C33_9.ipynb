{
  "nbformat": 4,
  "nbformat_minor": 0,
  "metadata": {
    "colab": {
      "provenance": []
    },
    "kernelspec": {
      "name": "python3",
      "display_name": "Python 3"
    },
    "language_info": {
      "name": "python"
    }
  },
  "cells": [
    {
      "cell_type": "code",
      "execution_count": null,
      "metadata": {
        "id": "qmHXcLuAj4pN"
      },
      "outputs": [],
      "source": [
        "#Task 3.1\n",
        "class Student:\n",
        "  def __init__(self,sid,fname,gen,dob,sc):\n",
        "    self.__studentID = sid\n",
        "    self.__fullname = fname\n",
        "    self.__gender = gen\n",
        "    self.__date_of_birth = dob\n",
        "    self.__subj_combi = sc\n",
        "  def show_details(self):\n",
        "    print(f\"Student ID: {self.__studentID} \\nFull Name: {self.__fullname} \\nGender: {self.__gender} \\nDate Of Birth: {self.__date_of_birth} \\nSubject Combination:\")\n",
        "    for subjectNum in range(len(self.__subj_combi)):\n",
        "      print(f\"Subject {subjectNum + 1}: {self.__subj_combi[subjectNum]}\")\n",
        "  def get_studentID(self):\n",
        "    return self.__studentID"
      ]
    },
    {
      "cell_type": "code",
      "source": [
        "#Task 3.2\n",
        "import csv\n",
        "\n",
        "infile = open(\"STUDENTS.csv\", \"r\")\n",
        "lines = csv.reader(infile)\n",
        "students = []\n",
        "for line in lines:\n",
        "  student = Student(int(line[0]), line[1], line[2], line[3], line[4:])\n",
        "  student.show_details()\n",
        "  students += [student]\n",
        "  print()"
      ],
      "metadata": {
        "colab": {
          "base_uri": "https://localhost:8080/"
        },
        "id": "truEZccpqa97",
        "outputId": "3e191577-6903-4155-882f-f28fdba69f6f"
      },
      "execution_count": null,
      "outputs": [
        {
          "output_type": "stream",
          "name": "stdout",
          "text": [
            "Student ID: 2 \n",
            "Full Name: Liu Si Ling \n",
            "Gender: Female \n",
            "Date Of Birth: 2005-08-25 \n",
            "Subject Combination:\n",
            "Subject 1: H2 Physics\n",
            "Subject 2: H2 Chemistry\n",
            "Subject 3: H2 Mathematics\n",
            "Subject 4: H2 Economics\n",
            "Subject 5: H3 Mathematics\n",
            "\n",
            "Student ID: 5 \n",
            "Full Name: Oon Yi Min \n",
            "Gender: Female \n",
            "Date Of Birth: 2005-07-23 \n",
            "Subject Combination:\n",
            "Subject 1: H2 Biology\n",
            "Subject 2: H2 Chemistry\n",
            "Subject 3: H2 Mathematics\n",
            "Subject 4: H2 Economics\n",
            "\n",
            "Student ID: 7 \n",
            "Full Name: Ng Yi Xin \n",
            "Gender: Female \n",
            "Date Of Birth: 2005-05-26 \n",
            "Subject Combination:\n",
            "Subject 1: H2 Biology\n",
            "Subject 2: H2 Chemistry\n",
            "Subject 3: H2 Mathematics\n",
            "Subject 4: H1 Economics\n",
            "\n",
            "Student ID: 11 \n",
            "Full Name: Fung Yi Hao \n",
            "Gender: Male \n",
            "Date Of Birth: 2005-08-24 \n",
            "Subject Combination:\n",
            "Subject 1: H2 Art\n",
            "Subject 2: H2 Chemistry\n",
            "Subject 3: H1 Mathematics\n",
            "Subject 4: H2 Economics\n",
            "\n",
            "Student ID: 12 \n",
            "Full Name: Beh Zheng De \n",
            "Gender: Male \n",
            "Date Of Birth: 2005-11-11 \n",
            "Subject Combination:\n",
            "Subject 1: H2 Geography\n",
            "Subject 2: H2 Chemistry\n",
            "Subject 3: H1 Mathematics\n",
            "Subject 4: H2 Economics\n",
            "Subject 5: H3 Geography\n",
            "\n",
            "Student ID: 15 \n",
            "Full Name: Xu Xi Hui \n",
            "Gender: Female \n",
            "Date Of Birth: 2005-03-10 \n",
            "Subject Combination:\n",
            "Subject 1: H2 Art\n",
            "Subject 2: H1 Chemistry\n",
            "Subject 3: H2 Mathematics\n",
            "Subject 4: H2 Economics\n",
            "\n",
            "Student ID: 19 \n",
            "Full Name: Cheng Hao Ming \n",
            "Gender: Male \n",
            "Date Of Birth: 2005-01-07 \n",
            "Subject Combination:\n",
            "Subject 1: H2 Physics\n",
            "Subject 2: H2 Chemistry\n",
            "Subject 3: H2 Mathematics\n",
            "Subject 4: H2 Economics\n",
            "\n",
            "Student ID: 20 \n",
            "Full Name: Choong Kai Xin \n",
            "Gender: Female \n",
            "Date Of Birth: 2005-05-14 \n",
            "Subject Combination:\n",
            "Subject 1: H2 Art\n",
            "Subject 2: H2 Chemistry\n",
            "Subject 3: H1 Mathematics\n",
            "Subject 4: H2 Economics\n",
            "Subject 5: H3 History\n",
            "\n"
          ]
        }
      ]
    },
    {
      "cell_type": "code",
      "source": [
        "#Task 3.3\n",
        "\n",
        "def recursive_binary_search(sid, first, last):\n",
        "  if last < first:\n",
        "    return -1\n",
        "  else:\n",
        "    midpoint = (first + last)//2\n",
        "    if sid < students[midpoint].get_studentID():\n",
        "      last = midpoint - 1\n",
        "      return recursive_binary_search(sid,first,last)\n",
        "    elif sid > students[midpoint].get_studentID():\n",
        "      first = midpoint + 1\n",
        "      return recursive_binary_search(sid,first,last)\n",
        "    else:\n",
        "      return midpoint\n",
        "\n",
        "student_found = False\n",
        "while student_found == False:\n",
        "  user_sid = int(input(\"Input Student ID: \"))\n",
        "  student_position = recursive_binary_search(user_sid, 0, 7)\n",
        "  if student_position != -1:\n",
        "    student_found = True\n",
        "    students[student_position].show_details()\n",
        "  else:\n",
        "    response = input(\"Do you want to search again? \")\n",
        "    if response == \"Yes\":\n",
        "      continue\n",
        "    else:\n",
        "      break"
      ],
      "metadata": {
        "colab": {
          "base_uri": "https://localhost:8080/"
        },
        "id": "IwotR78W98LL",
        "outputId": "0c33d184-a3f6-420a-8f76-f8496fc2656d"
      },
      "execution_count": null,
      "outputs": [
        {
          "output_type": "stream",
          "name": "stdout",
          "text": [
            "Input Student ID: 105\n",
            "Do you want to search again? Yes\n",
            "Input Student ID: 15\n",
            "Student ID: 15 \n",
            "Full Name: Xu Xi Hui \n",
            "Gender: Female \n",
            "Date Of Birth: 2005-03-10 \n",
            "Subject Combination:\n",
            "Subject 1: H2 Art\n",
            "Subject 2: H1 Chemistry\n",
            "Subject 3: H2 Mathematics\n",
            "Subject 4: H2 Economics\n"
          ]
        }
      ]
    },
    {
      "cell_type": "code",
      "source": [
        "#class practice\n",
        "\n",
        "class ComputingStudent:\n",
        "  subject = \"computing\" #static/class variable, applies to ComputingStudent.subject and self.subject, can be privated by adding two underscores \"__\"\n",
        "  def __init__(self,name,class_name):\n",
        "    self.name = name\n",
        "    self.class_name = class_name\n",
        "\n",
        "student_1 = ComputingStudent(\"Mary\", \"6C11\")\n",
        "student_2 = ComputingStudent(\"Tommy\", \"6C36\")\n",
        "\n",
        "print(student_1.subject)\n",
        "print(student_2.subject)\n",
        "print(student_1.name)\n",
        "print(student_2.name)\n",
        "print(student_1.class_name)\n",
        "print(student_2.class_name)\n",
        "\n",
        "print(ComputingStudent.subject)\n",
        "print()\n",
        "\n",
        "# alter variable\n",
        "ComputingStudent.subject = \"H2 Computing\"\n",
        "\n",
        "print(student_1.subject)\n",
        "print(student_2.subject)\n",
        "print(ComputingStudent.subject)\n"
      ],
      "metadata": {
        "colab": {
          "base_uri": "https://localhost:8080/"
        },
        "id": "LxV44BhKjmin",
        "outputId": "2dc379dc-fabb-46bd-99b3-f07111c871e1"
      },
      "execution_count": null,
      "outputs": [
        {
          "output_type": "stream",
          "name": "stdout",
          "text": [
            "computing\n",
            "computing\n",
            "Mary\n",
            "Tommy\n",
            "6C11\n",
            "6C36\n",
            "computing\n",
            "\n",
            "H2 Computing\n",
            "H2 Computing\n",
            "H2 Computing\n"
          ]
        }
      ]
    },
    {
      "cell_type": "code",
      "source": [
        "#class practice\n",
        "\n",
        "class Pupil:\n",
        "  __school_name = \"ABC School\"\n",
        "  def __init__(self,name,age):\n",
        "    self.__name = name\n",
        "    self.__age = age\n",
        "\n",
        "  @classmethod\n",
        "  def change_school(cls, school_name): #this is a class method\n",
        "    cls.__school_name = school_name\n",
        "\n",
        "  def show(self): #this is an instance method\n",
        "    print(self.__name, self.__age, \"School:\", Pupil.__school_name)\n",
        "\n",
        "jessa = Pupil(\"Jessa\", 20)\n",
        "jessa.show()\n",
        "\n",
        "Pupil.change_school(\"XYZ School\")\n",
        "jessa.show()"
      ],
      "metadata": {
        "colab": {
          "base_uri": "https://localhost:8080/"
        },
        "id": "5vdx8CJYlpZc",
        "outputId": "91e1f695-8a14-4ba6-aef8-9ac5c76fb528"
      },
      "execution_count": null,
      "outputs": [
        {
          "output_type": "stream",
          "name": "stdout",
          "text": [
            "Jessa 20 School: ABC School\n",
            "Jessa 20 School: XYZ School\n"
          ]
        }
      ]
    },
    {
      "cell_type": "code",
      "source": [
        "#class practice\n",
        "\n",
        "class Person:\n",
        "  static_var = 0 #this is a class/static variable\n",
        "  def __init__(self, name, age):\n",
        "    self.name = name\n",
        "    self.age = age\n",
        "\n",
        "  @staticmethod\n",
        "  def isAdult(age): #this is a static method\n",
        "    return age > 18\n",
        "\n",
        "print(Person.isAdult(15))\n",
        "print(Person.isAdult(22))"
      ],
      "metadata": {
        "colab": {
          "base_uri": "https://localhost:8080/"
        },
        "id": "Hd0o-aHOm_k_",
        "outputId": "857ec246-b3f9-4d3e-a4f6-dd75fdc09337"
      },
      "execution_count": null,
      "outputs": [
        {
          "output_type": "stream",
          "name": "stdout",
          "text": [
            "False\n",
            "True\n"
          ]
        }
      ]
    }
  ]
}